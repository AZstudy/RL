{
 "cells": [
  {
   "cell_type": "code",
   "execution_count": 6,
   "metadata": {
    "collapsed": false
   },
   "outputs": [],
   "source": [
    "#Initailize value_list\n",
    "v=[0]*32\n",
    "#set terminal reward -1\n",
    "v[31] = -1\n",
    "def value_evaluation(v,a,p,r=1):\n",
    "    tmp_list = [[0 for _ in range(3)] for _ in range(32)] #action값을 위한 임시저장소\n",
    "    for current_state in range(32): # 32개 상태를 전탐색\n",
    "        for action in a: # agent의 action 집합 전탐색\n",
    "            a_value=[]\n",
    "            if current_state + action >= 31: # agent가 31을 밟을 경우 -1 reward를 받는다\n",
    "                a_value.append(-1)\n",
    "                continue\n",
    "            op_state = current_state + action + 1 # 나의 action 후에 상대방의 state\n",
    "\n",
    "            for op_action in a: # 상대방의 action 집합 전탐색 \n",
    "                    \n",
    "                    if op_state + op_action >= 31: # 상대방이 31을 밟을 경우 reward 1을 agent가 받는다.\n",
    "                        a_value.append(1)\n",
    "                        break\n",
    "                    else :\n",
    "                        next_state = op_state + op_action + 1 # agent의 다음 state를 설정\n",
    "                        a_value.append(v[next_state]) # agent가 있는 state에서 받게될 앞으로의 reward : Gt\n",
    "                        \n",
    "            tmp_list[current_state][action] = min(a_value) # 각 state에서는 agent가 greedy하게 선택한\n",
    "\n",
    "        # print result shows state_value for each action           \n",
    "        print(current_state,\" : \",tmp_list[current_state])\n",
    "        \n",
    "    # evaluate value_list with maximum value\n",
    "    for state in range(32):\n",
    "        v[state] = max(tmp_list[state][0],tmp_list[state][1],tmp_list[state][2])\n",
    "    \n",
    "    \n",
    "    \n",
    "    \n",
    "    \n",
    "    "
   ]
  },
  {
   "cell_type": "code",
   "execution_count": 7,
   "metadata": {
    "collapsed": true
   },
   "outputs": [],
   "source": [
    "####### 함수를 반복해서 실행한다.\n",
    "# 9번 반복 이후 부터는 같은 결과가 나온다. 즉 수렴했다.\n",
    "# 의견 : value_list가 보여주는 value 값들 보다 함수 처리 과정 중에 보이는 tmp_list가 더 유의미한 듯 보인다.\n",
    "# tmp_list의 출력물을 통해 각 state에서 선택해야할 action을 고를 수 있다. \n",
    "# 예를 들어 state 1에서 최적의 action은 value 값이 0.0인 2번째 action임을 알 수 있다.\n",
    "# 따라서 agent가 현재 1을 말해야하는 상황이면 1과 2를 말하는 것이 최적의 action이다."
   ]
  },
  {
   "cell_type": "code",
   "execution_count": 20,
   "metadata": {
    "collapsed": false,
    "scrolled": false
   },
   "outputs": [
    {
     "name": "stdout",
     "output_type": "stream",
     "text": [
      "0  :  [0, 0, 1]\n",
      "1  :  [0, 1, 0]\n",
      "2  :  [1, 0, 0]\n",
      "3  :  [0, 0, 0]\n",
      "4  :  [0, 0, 1]\n",
      "5  :  [0, 1, 0]\n",
      "6  :  [1, 0, 0]\n",
      "7  :  [0, 0, 0]\n",
      "8  :  [0, 0, 1]\n",
      "9  :  [0, 1, 0]\n",
      "10  :  [1, 0, 0]\n",
      "11  :  [0, 0, 0]\n",
      "12  :  [0, 0, 1]\n",
      "13  :  [0, 1, 0]\n",
      "14  :  [1, 0, 0]\n",
      "15  :  [0, 0, 0]\n",
      "16  :  [0, 0, 1]\n",
      "17  :  [0, 1, 0]\n",
      "18  :  [1, 0, 0]\n",
      "19  :  [0, 0, 0]\n",
      "20  :  [0, 0, 1]\n",
      "21  :  [0, 1, 0]\n",
      "22  :  [1, 0, 0]\n",
      "23  :  [0, 0, 0]\n",
      "24  :  [0, 0, 1]\n",
      "25  :  [0, 1, 0]\n",
      "26  :  [1, 0, 0]\n",
      "27  :  [0, 0, 0]\n",
      "28  :  [0, 0, 1]\n",
      "29  :  [0, 1, 0]\n",
      "30  :  [1, 0, 0]\n",
      "31  :  [0, 0, 0]\n"
     ]
    }
   ],
   "source": [
    "value_evaluation(v,a=(0,1,2),p=(1/3,1/3,1/3),r=1)"
   ]
  },
  {
   "cell_type": "code",
   "execution_count": 21,
   "metadata": {
    "collapsed": false
   },
   "outputs": [
    {
     "name": "stdout",
     "output_type": "stream",
     "text": [
      "0  :  1\n",
      "1  :  1\n",
      "2  :  1\n",
      "3  :  0\n",
      "4  :  1\n",
      "5  :  1\n",
      "6  :  1\n",
      "7  :  0\n",
      "8  :  1\n",
      "9  :  1\n",
      "10  :  1\n",
      "11  :  0\n",
      "12  :  1\n",
      "13  :  1\n",
      "14  :  1\n",
      "15  :  0\n",
      "16  :  1\n",
      "17  :  1\n",
      "18  :  1\n",
      "19  :  0\n",
      "20  :  1\n",
      "21  :  1\n",
      "22  :  1\n",
      "23  :  0\n",
      "24  :  1\n",
      "25  :  1\n",
      "26  :  1\n",
      "27  :  0\n",
      "28  :  1\n",
      "29  :  1\n",
      "30  :  1\n",
      "31  :  0\n"
     ]
    }
   ],
   "source": [
    "for x in range(32):\n",
    "    print(x,\" : \",v[x])\n"
   ]
  },
  {
   "cell_type": "code",
   "execution_count": null,
   "metadata": {
    "collapsed": true
   },
   "outputs": [],
   "source": []
  }
 ],
 "metadata": {
  "kernelspec": {
   "display_name": "Python 3",
   "language": "python",
   "name": "python3"
  },
  "language_info": {
   "codemirror_mode": {
    "name": "ipython",
    "version": 3
   },
   "file_extension": ".py",
   "mimetype": "text/x-python",
   "name": "python",
   "nbconvert_exporter": "python",
   "pygments_lexer": "ipython3",
   "version": "3.6.0"
  }
 },
 "nbformat": 4,
 "nbformat_minor": 2
}

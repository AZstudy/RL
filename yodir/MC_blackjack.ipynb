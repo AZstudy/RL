{
 "cells": [
  {
   "cell_type": "code",
   "execution_count": 1,
   "metadata": {
    "collapsed": true
   },
   "outputs": [],
   "source": [
    "class state:\n",
    "    \"\"\"\n",
    "    state 에는 agent_sum과 dealer_sum의 쌍이 고유번호로 주어진다.\n",
    "    각 상태에는 방문횟수,상태의 value값 , 상태에서의 agent가 취하는 액션 확률 집합이 주이진다.\n",
    "    \"\"\"\n",
    "    const_n = 100\n",
    "    \n",
    "    def __init__(self,x,y):\n",
    "        self.x = x\n",
    "        self.y = y\n",
    "        \n",
    "        self.cnt = 0\n",
    "        # initial policy\n",
    "        self.action_p = [0.5,0.5]\n",
    "        self.action_cnt = {\"stick\":0,\"hit\":0}\n",
    "        # Q(s,a) state s에서 action a를 선택했을 때 reward\n",
    "        self.Q = {\"stick\":0 , \"hit\":0}\n",
    "        self.value = max(self.Q.values())\n",
    "        \n",
    "        ### self.action_alpha ={\"stick\":0,\"hit\":0}\n",
    "        \n",
    "    def __repr__(self):\n",
    "        return \"(x : {x}, y : {y}, v : {value} a : {action})\".format(x=self.x,y=self.y,value = self.value, action =self.greedy_action())\n",
    "\n",
    "    \n",
    "    def p_setter(self):\n",
    "        e = self.const_n/(self.const_n+self.cnt)\n",
    "        max_a = max(self.Q,key = self.Q.get)\n",
    "        self.action_p = [e/2,1-e/2] if max_a == \"stick\" else [1 - e/2 , e/2]\n",
    "    \n",
    "    \"\"\"\n",
    "    #  since alpha = 1/action_cnt[action]\n",
    "    def alpha_setter(self,action):\n",
    "        self.action_alpha[action] = 1/self.action_cnt[action]\n",
    "    \"\"\"\n",
    "    \n",
    "    def Q_setter(self,action,reward):\n",
    "        Q_value = self.Q[action]\n",
    "        Q_cnt = self.action_cnt[action]\n",
    "        \n",
    "        self.Q[action] = Q_value + (reward - Q_value)/Q_cnt\n",
    "        \n",
    "    def greedy_action(self):\n",
    "        greedy_a = max(self.Q,key = self.Q.get)\n",
    "        return greedy_a\n",
    "        \n",
    "    @staticmethod\n",
    "    def state_update(episode,reward):\n",
    "        state = episode.state\n",
    "        action = episode.action\n",
    "        \n",
    "        state.cnt += 1\n",
    "        state.action_cnt[action] += 1\n",
    "        # state.alpah_setter(action)\n",
    "\n",
    "        state.Q_setter(action,reward)\n",
    "        state.p_setter()\n",
    "        \n",
    "        state.value = max(state.Q.values())\n",
    "        \n",
    "            "
   ]
  },
  {
   "cell_type": "code",
   "execution_count": 2,
   "metadata": {
    "collapsed": false
   },
   "outputs": [],
   "source": [
    "states_list = [[state(x,y) for y in range(1,22)] for x in range(1,22)]\n",
    "\n",
    "class agent:\n",
    "    \"\"\"\n",
    "    agent는 현재상태를 알고 있다.\n",
    "    액션은 두가지이다.\n",
    "    모든 상태에 대한 value값과 cnt값 action_p를 계산한다.\n",
    "    \"\"\"\n",
    "    \n",
    "    def __init__(self,state):\n",
    "        self.action = [\"stick\",\"hit\"]\n",
    "        x,y = state\n",
    "        self._current_state = states_list[x-1][y-1]\n",
    "        \n",
    "        \n",
    "    # 플레이어의 액션 집합. \n",
    "    # 입실론 그리디하게 액션을 선택한다.\n",
    "    @property\n",
    "    def current_state(self):\n",
    "        return self._current_state\n",
    "    @current_state.setter\n",
    "    def current_state(self,state):\n",
    "        x,y = state\n",
    "        self._current_state = states_list[x-1][y-1]\n",
    "    \n",
    "    @property\n",
    "    def e_agent_action(self):\n",
    "        from numpy.random import choice\n",
    "        return choice(self.action,p = self._current_state.action_p)\n",
    "    "
   ]
  },
  {
   "cell_type": "code",
   "execution_count": 3,
   "metadata": {
    "collapsed": false
   },
   "outputs": [],
   "source": [
    "class card_game:\n",
    "    \n",
    "    def __init__(self):\n",
    "        self.card = [ i for i in range(-10,0)] + [i for i in range(1,11) for a in range(2)]\n",
    "        \n",
    "        \n",
    "    # 첫 번째 블랙 카드 랜덤 배정.\n",
    "    \n",
    "    @staticmethod\n",
    "    def get_first_card():\n",
    "        import random\n",
    "        black_card = [i for i in range(1,11)]\n",
    "        choice1 = random.choice(black_card)\n",
    "        choice2 = random.choice(black_card)\n",
    "        return choice1, choice2\n",
    "    \n",
    "    \n",
    "    # 카드를 랜덤하게 배정한다 검정 카드는 2/3의 확률로 , 빨간 카드는 1/3의 확률로 나눠줌.\n",
    "    def get_card(self):\n",
    "        import random\n",
    "        return random.choice(self.card)\n",
    "\n",
    "    # 검정 카드의 빈도가 2/3의 확률 비율을 갖는지 검정한다.\n",
    "    # 그냥 해봤다. 재밌었음. 랜덤하게 배정하는 원리는 무엇인가.\n",
    "    def one_proportion_test(self,testcase=10000):\n",
    "        tc = {\"black\" : 0,\"red\":0}\n",
    "        for i in range(testcase):\n",
    "            a = self.get_card()\n",
    "            if a > 0 :\n",
    "                tc[\"black\"]+=1\n",
    "            else:\n",
    "                tc[\"red\"] +=1\n",
    "        print(' # of cases : {number}'.format(number = testcase))\n",
    "        print(' # of black : {black}\\n # of red   : {red}'.format(black = tc[\"black\"],red = tc[\"red\"]))\n",
    "        \n",
    "        returned = tc[\"black\"]\n",
    "        installs = tc[\"black\"] + tc[\"red\"]\n",
    "        from statsmodels.stats.proportion import proportions_ztest\n",
    "        z,p = proportions_ztest(returned, installs, value=2/3, alternative='smaller')\n",
    "        print(' z-stat = {z} \\n p-value = {p}'.format(z=z,p=p))\n",
    "        \n",
    "        from statsmodels.stats.proportion import proportion_confint \n",
    "        ci_low, ci_upp = proportion_confint(returned, installs)\n",
    "        print(' 95% Confidence Interval = ( {0:.2f}% , {1:.2f}% )'.format(100*ci_low, 100*ci_upp))\n",
    "        \n",
    "    \n",
    "    \n",
    "    def step(self,state,action):\n",
    "        reward = None\n",
    "        agent_sum,dealer_sum = state.x,state.y\n",
    "        next_state = (state.x,state.y)\n",
    "\n",
    "        # agent's action and next state\n",
    "        if action == \"hit\":\n",
    "            agent_sum += self.get_card()\n",
    "            if agent_sum > 21 or agent_sum < 1:\n",
    "                reward = -1\n",
    "                return _,reward\n",
    "        \n",
    "        #dealer's action and next state\n",
    "        if dealer_sum >= 17:\n",
    "            if action == \"stick\":\n",
    "                if agent_sum == dealer_sum:\n",
    "                    reward = 0\n",
    "                elif agent_sum > dealer_sum:\n",
    "                    reward = 1\n",
    "                else:\n",
    "                    reward = -1\n",
    "        else:\n",
    "            dealer_sum += self.get_card()\n",
    "            if dealer_sum >21 or dealer_sum <1:\n",
    "                reward = 1\n",
    "    \n",
    "    \n",
    "        next_state = (agent_sum,dealer_sum)\n",
    "        return next_state,reward\n",
    "    \n",
    "    "
   ]
  },
  {
   "cell_type": "code",
   "execution_count": 4,
   "metadata": {
    "collapsed": false
   },
   "outputs": [],
   "source": [
    "class Episode:\n",
    "    def __init__(self,state,action):\n",
    "        self.state = state\n",
    "        self.action = action\n",
    "        # episode = (state,action)\n",
    "        \n",
    "    def __repr__(self):\n",
    "        return \" # ep : (state : %r , action : %r\"%(self.state,self.action)\n",
    "    "
   ]
  },
  {
   "cell_type": "code",
   "execution_count": 5,
   "metadata": {
    "collapsed": true
   },
   "outputs": [],
   "source": [
    "# 카드게임 테스트용 \n",
    "a = card_game()"
   ]
  },
  {
   "cell_type": "code",
   "execution_count": 6,
   "metadata": {
    "collapsed": false
   },
   "outputs": [
    {
     "name": "stdout",
     "output_type": "stream",
     "text": [
      " # of cases : 10000\n",
      " # of black : 6658\n",
      " # of red   : 3342\n",
      " z-stat = -0.1837286885485429 \n",
      " p-value = 0.4271131509000116\n",
      " 95% Confidence Interval = ( 65.66% , 67.50% )\n"
     ]
    }
   ],
   "source": [
    "# 카드 게임 공정성 판단.\n",
    "# 카드 배분이 랜덤하게 잘 배분되는지 비율을 검증한다.\n",
    "# 검증 완료 p_value 값이 충분하여 H0 : p = 2/3을 기각하지 못한다.\n",
    "a.one_proportion_test()"
   ]
  },
  {
   "cell_type": "code",
   "execution_count": 7,
   "metadata": {
    "collapsed": true
   },
   "outputs": [],
   "source": [
    "# 진짜 게임 시작\n",
    "iterate_time = 50000# 에피소드 반복 횟수를 설정해줘야함.  "
   ]
  },
  {
   "cell_type": "code",
   "execution_count": 8,
   "metadata": {
    "collapsed": false
   },
   "outputs": [
    {
     "name": "stdout",
     "output_type": "stream",
     "text": [
      "end\n"
     ]
    }
   ],
   "source": [
    "game = card_game()\n",
    "episodes= []\n",
    "\n",
    "for i in range(iterate_time):\n",
    "    # 첫번째 카드를 받는다.\n",
    "    player = agent(game.get_first_card())\n",
    "    episode_list = []\n",
    "    i = 1\n",
    "    while True:\n",
    "        # agent의 action을 정한다. \n",
    "        # e_greedy하게 action을 선택한다.\n",
    "        action = player.e_agent_action\n",
    "\n",
    "        # episode에 업데이트 한다.\n",
    "        episode_list.append(Episode(player.current_state,action))\n",
    "\n",
    "        # 게임을 진행한다.\n",
    "        # 1 step은 딜러와 플레이어의 액션이 동시에 진행된다.\n",
    "        # 보상은 그에 따라 주어진 결과에 의해서 반영된다.\n",
    "        next_state,reward = game.step(player.current_state,action)\n",
    "\n",
    "        # update current state\n",
    "        if reward is not None:\n",
    "            break\n",
    "            \n",
    "        player.current_state = next_state\n",
    "        \n",
    "        \n",
    "    for ep in episode_list:\n",
    "        state.state_update(ep,reward)\n",
    "        \n",
    "    episodes.append(episode_list)\n",
    "    \n",
    "# end가 프린트 되면 성\n",
    "print(\"end\")"
   ]
  },
  {
   "cell_type": "code",
   "execution_count": 9,
   "metadata": {
    "collapsed": false
   },
   "outputs": [
    {
     "data": {
      "image/png": "[encoded data removed]",
      "text/plain": [
       "<matplotlib.figure.Figure at 0x1103cd2b0>"
      ]
     },
     "metadata": {},
     "output_type": "display_data"
    }
   ],
   "source": [
    "import numpy as np\n",
    "import matplotlib.pyplot as plt\n",
    "from mpl_toolkits.mplot3d import Axes3D\n",
    "from matplotlib import cm\n",
    "\n",
    "\n",
    "def fun(x, y):\n",
    "    return states_list[x-1][y-1].value\n",
    "\n",
    "x = y = np.arange(0, 21, 1)\n",
    "X, Y = np.meshgrid(x, y)\n",
    "zs = np.array([fun(x,y) for x,y in zip(np.ravel(X), np.ravel(Y))])\n",
    "Z = zs.reshape(X.shape)\n",
    "\n",
    "fig = plt.figure()\n",
    "ax = fig.gca(projection='3d')              # 3d axes instance\n",
    "\n",
    "surf = ax.plot_surface(X, Y, Z,           # data values (2D Arryas)\n",
    "                       rstride=2,                    # row step size\n",
    "                       cstride=2,                   # column step size\n",
    "                       cmap=cm.RdPu,        # colour map\n",
    "                       linewidth=1,                # wireframe line width\n",
    "                       antialiased=True)\n",
    "\n",
    "ax.set_title('value graph')        # title\n",
    "ax.set_xlabel('agent_sum')                             # x label\n",
    "ax.set_ylabel('dealer_sum')                             # y label\n",
    "ax.set_zlabel('value')                             # z label\n",
    "fig.colorbar(surf, shrink=0.5, aspect=5)   # colour bar\n",
    " \n",
    "ax.view_init(elev=30,azim=70)                # elevation & angle\n",
    "ax.dist=8                                                  # distance from the plot\n",
    "plt.show()\n"
   ]
  },
  {
   "cell_type": "code",
   "execution_count": 9,
   "metadata": {
    "collapsed": false
   },
   "outputs": [
    {
     "data": {
      "text/plain": [
       "[0.007660487206986364, 0.9923395127930137]"
      ]
     },
     "execution_count": 9,
     "metadata": {},
     "output_type": "execute_result"
    }
   ],
   "source": [
    "# GLIE 확인\n",
    "states_list[3][3].action_p"
   ]
  },
  {
   "cell_type": "code",
   "execution_count": 15,
   "metadata": {
    "collapsed": false
   },
   "outputs": [
    {
     "data": {
      "text/plain": [
       "(x : 21, y : 20, v : 1.0 a : stick)"
      ]
     },
     "execution_count": 15,
     "metadata": {},
     "output_type": "execute_result"
    }
   ],
   "source": [
    "states_list[20][19]"
   ]
  },
  {
   "cell_type": "code",
   "execution_count": null,
   "metadata": {
    "collapsed": true
   },
   "outputs": [],
   "source": []
  }
 ],
 "metadata": {
  "kernelspec": {
   "display_name": "Python 3",
   "language": "python",
   "name": "python3"
  },
  "language_info": {
   "codemirror_mode": {
    "name": "ipython",
    "version": 3
   },
   "file_extension": ".py",
   "mimetype": "text/x-python",
   "name": "python",
   "nbconvert_exporter": "python",
   "pygments_lexer": "ipython3",
   "version": "3.6.0"
  }
 },
 "nbformat": 4,
 "nbformat_minor": 2
}
